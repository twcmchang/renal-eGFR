{
 "cells": [
  {
   "cell_type": "code",
   "execution_count": null,
   "metadata": {},
   "outputs": [],
   "source": [
    "import os\n",
    "import time\n",
    "import numpy as np\n",
    "import pandas as pd\n",
    "import tensorflow as tf\n",
    "\n",
    "import cv2\n",
    "\n",
    "from progress.bar import Bar\n",
    "from ipywidgets import IntProgress\n",
    "from IPython.display import display\n",
    "\n",
    "from model import VGG16"
   ]
  },
  {
   "cell_type": "code",
   "execution_count": null,
   "metadata": {},
   "outputs": [],
   "source": [
    "original_file = '/data/put_data/timliu/kidney/pro_img/GE/meta.csv'"
   ]
  },
  {
   "cell_type": "code",
   "execution_count": null,
   "metadata": {},
   "outputs": [],
   "source": [
    "mydirs = ['/data/put_data/timliu/kidney/pro_img/GE/clahe'+str(i)+'_right' for i in range(5,26,5)]+['/data/put_data/timliu/kidney/pro_img/GE/clahe'+str(i)+'_left' for i in range(5,26,5)]"
   ]
  },
  {
   "cell_type": "code",
   "execution_count": null,
   "metadata": {},
   "outputs": [],
   "source": [
    "ori = pd.read_csv(original_file, index_col = False)\n",
    "df = ori.copy()\n",
    "if len(mydirs)>0:\n",
    "    for dirn in mydirs:\n",
    "        tmp = pd.read_csv(dirn+'/df_with_labels.csv', index_col = False)\n",
    "        print(tmp.shape)\n",
    "        df = df.append(tmp)\n",
    "\n",
    "df = df[(df.length != 'Suspension')].reset_index()\n",
    "\n",
    "ori = ori[(ori.length != 'Suspension')].reset_index()\n",
    "\n",
    "df.length = df.length.astype('float')\n",
    "print(df.shape)\n",
    "print(ori.shape)\n",
    "df.head()"
   ]
  },
  {
   "cell_type": "code",
   "execution_count": null,
   "metadata": {},
   "outputs": [],
   "source": [
    "ratio = 0.75\n",
    "random.seed(45)\n",
    "train_id = []\n",
    "test_id = []\n",
    "for i in range(0, 34):\n",
    "    df_sub = df[df['egfr_mdrd'].between(5*i, 5*(i+1), inclusive = (True, False))]\n",
    "    d_list = Series.tolist(df_sub['uid_date'])\n",
    "    d_list = list(set(d_list))\n",
    "    random.shuffle(d_list)\n",
    "    train_id += d_list[:int(ratio*len(d_list))]\n",
    "    test_id += d_list[int(ratio*len(d_list)):]\n",
    "print('all:', len(set(df.uid_date)), 'train:', len(train_id), 'test:', len(test_id))"
   ]
  },
  {
   "cell_type": "code",
   "execution_count": null,
   "metadata": {},
   "outputs": [],
   "source": [
    "class Dataset(object):\n",
    "    def __init__(self, uid, df, crop_size, resize_size):\n",
    "        index = np.where(df['uid_date'].isin(uid))[0]\n",
    "        images = []\n",
    "        labels = []\n",
    "        weights = []\n",
    "        for i in index:\n",
    "            img = self._load_image(df['path'][i], crop_size, resize_size)\n",
    "            label = df['egfr_mdrd'][i]\n",
    "            if label < 30:\n",
    "                weight = 3\n",
    "            elif label < 60:\n",
    "                weight = 1\n",
    "            elif label < 90:\n",
    "                weight = 3\n",
    "            else:\n",
    "                weight = 9\n",
    "            images.append(img)\n",
    "            labels.append(label)\n",
    "            weights.append(weight)\n",
    "        self.images = np.array(images)\n",
    "        self.labels = np.array(labels)\n",
    "        self.weights = np.array(weights)\n",
    "    \n",
    "    def _load_image(self, path, crop_size, resize_size):\n",
    "        # load image\n",
    "        img = cv2.imread(path,1)\n",
    "        # we crop image from center\n",
    "        yy = int((img.shape[0] - crop_size) / 2)\n",
    "        xx = int((img.shape[1] - crop_size) / 2)\n",
    "        crop_img = img[yy: yy + crop_size, xx: xx + crop_size]\n",
    "        # resize to 224, 224\n",
    "        resized_img = cv2.resize(crop_img,(resize_size,resize_size),interpolation=cv2.INTER_AREA)\n",
    "        return resized_img\n",
    "    \n",
    "    def shuffle(self):\n",
    "        idx = np.random.permutation(self.images.shape[0])\n",
    "        self.images = self.images[idx,:,:,:]\n",
    "        self.labels = self.labels[idx]\n",
    "        self.weights = self.weights[idx]"
   ]
  },
  {
   "cell_type": "code",
   "execution_count": 13,
   "metadata": {},
   "outputs": [],
   "source": [
    "save_dir = \"/Users/chunmingchang/renal-eGFR/test\"\n",
    "init_from = \"/Users/chunmingchang/renal-eGFR/vgg16.npy\"\n",
    "\n",
    "def vgg16_train(train, test, init_from, save_dir, batch_size=64, epoch=300, early_stop_patience=25):\n",
    "    vgg16 = VGG16(vgg16_npy_path=init_from)\n",
    "    vgg16.build()\n",
    "\n",
    "    saver = tf.train.Saver(tf.global_variables(), max_to_keep=2)\n",
    "\n",
    "    if not os.path.exists(save_dir):\n",
    "        os.makedirs(save_dir)\n",
    "    \n",
    "    checkpoint_path = os.path.join(save_dir, 'model.ckpt')\n",
    "\n",
    "    with tf.Session() as sess:\n",
    "        sess.run(tf.global_variables_initializer())\n",
    "\n",
    "        # hyper parameters\n",
    "        learning_rate =  5e-4 #adam\n",
    "        min_delta = 0.0001\n",
    "\n",
    "        # recorder\n",
    "        epoch_counter = 0\n",
    "        loss_history = []\n",
    "        val_loss_history = []\n",
    "\n",
    "        # optimizer\n",
    "        opt = tf.train.AdamOptimizer(learning_rate=learning_rate)\n",
    "        train_op = opt.minimize(vgg16.loss)\n",
    "\n",
    "        # progress bar\n",
    "        ptrain = IntProgress()\n",
    "        pval = IntProgress()\n",
    "        display(ptrain)\n",
    "        display(pval)\n",
    "        ptrain.max = int(train.images.shape[0]/batch_size)\n",
    "        pval.max = int(test.images.shape[0]/batch_size)\n",
    "\n",
    "        # reset due to adding a new task\n",
    "        patience_counter = 0\n",
    "        current_best_val_loss = 100000 # a large number\n",
    "        \n",
    "\n",
    "        # train start\n",
    "        while(patience_counter < early_stop_patience):\n",
    "            stime = time.time()\n",
    "            bar_train = Bar('Training', max=int(train.images.shape[0]/batch_size), suffix='%(index)d/%(max)d - %(percent).1f%% - %(eta)ds')\n",
    "            bar_val =  Bar('Validation', max=int(test.images.shape[0]/batch_size), suffix='%(index)d/%(max)d - %(percent).1f%% - %(eta)ds')\n",
    "            \n",
    "            # training an epoch\n",
    "            train_loss = 0\n",
    "            for i in range(int(train.images.shape[0]/batch_size)):\n",
    "                st = i*batch_size\n",
    "                ed = (i+1)*batch_size\n",
    "                \n",
    "                _, loss = sess.run([train_op, vgg16.loss ],\n",
    "                                   feed_dict={vgg16.x: train.images[st:ed,:],\n",
    "                                              vgg16.y: train.labels[st:ed,:],\n",
    "                                              vgg16.w: train.weights[st:ed,:]\n",
    "                                             })\n",
    "                train_loss += loss\n",
    "                ptrain.value +=1\n",
    "                ptrain.description = \"Training %s/%s\" % (i, ptrain.max)\n",
    "                bar_train.next()\n",
    "            \n",
    "            train_loss /= ptrain.max\n",
    "\n",
    "            # validation\n",
    "            val_loss = sess.run([vgg16.loss],\n",
    "                                feed_dict={vgg16.x: test.images,\n",
    "                                            vgg16.y: test.labels,\n",
    "                                            vgg16.w: np.repeat(1.0,test.images.shape[0])})\n",
    "\n",
    "\n",
    "            if (current_best_val_loss - val_loss) > min_delta:\n",
    "                current_best_val_loss = val_loss\n",
    "                patience_counter = 0\n",
    "                saver.save(sess, checkpoint_path, global_step=epoch_counter)\n",
    "                print(\"reset early stopping and save model into %s at epoch %s\" % (checkpoint_path,epoch_counter))\n",
    "            else:\n",
    "                patience_counter += 1\n",
    "\n",
    "            # shuffle Xtrain and Ytrain in the next epoch\n",
    "            train.shuffle()\n",
    "\n",
    "            # epoch end\n",
    "            epoch_counter += 1\n",
    "            \n",
    "            loss_history.append(train_loss)\n",
    "            val_loss_history.append(val_loss)\n",
    "\n",
    "            ptrain.value = 0\n",
    "            pval.value = 0\n",
    "            bar_train.finish()\n",
    "            bar_val.finish()\n",
    "\n",
    "            print(\"Epoch %s (%s), %s sec >> train-loss: %.4f, val-loss: %.4f\" % (epoch_counter, patience_counter, round(time.time()-stime,2), train_loss, val_loss))\n",
    "        res = pd.DataFrame({\"epoch\":range(0,len(loss_history)), \"loss\":loss_history, \"val_loss\":val_loss_history})\n",
    "        res.to_csv(os.path.join(save_dir,\"history.csv\"), index=False)\n",
    "        print(\"end training\")\n",
    "\n",
    "def plot_making(save_dir, true, pred, types):\n",
    "    cor = pearsonr(true, pred)[0]\n",
    "    mae = mean_absolute_error(true, pred)\n",
    "    r2 = r2_score(true, pred) \n",
    "    plt.figure(0)\n",
    "    plt.scatter(true, pred, alpha = .15, s = 20)\n",
    "    plt.xlabel('True_Y')\n",
    "    plt.ylabel('Pred_Y')\n",
    "    plt.title(\" data \\n\" + \"MAE = %4f; Cor = %4f; R2 = %4f; #samples = %d\" % (mae, cor, r2, len(true)))\n",
    "    plt.savefig(save_dir + types + \"_plot_scatter.png\" , dpi = 200)\n",
    "    plt.show()\n",
    "    plt.close()\n",
    "    \n",
    "    hist = pd.read_csv(os.path.join(save_dir, \"history.csv\"))\n",
    "    \n",
    "    plt.figure(0)\n",
    "    hist.plot(x='epoch', markevery=5)\n",
    "    plt.xlabel('Epoch')\n",
    "    plt.savefig(save_dir+\"history.png\",dpi=200)\n",
    "    plt.show()\n",
    "    plt.close()\n",
    "    \n",
    "def save_plot(save_dir, test):\n",
    "    with tf.Session() as sess:\n",
    "        sess.run(tf.global_variables_initializer())\n",
    "        saver = tf.train.Saver()\n",
    "        ckpt = tf.train.get_checkpoint_state(save_dir)\n",
    "        if ckpt and ckpt.model_checkpoint_path:\n",
    "            saver.restore(sess, ckpt.model_checkpoint_path)\n",
    "            sess.run(tf.global_variables())\n",
    "\n",
    "            val_loss, pred = sess.run([vgg16.loss, vgg16.output],\n",
    "                                      feed_dict={vgg16.x: test.images,\n",
    "                                                 vgg16.y: test.labels,\n",
    "                                                 vgg16.w: np.repeat(1.0, test.images.shape[0])})\n",
    "\n",
    "            plot_making(save_dir, test.labels, pred, types=\"test\")"
   ]
  },
  {
   "cell_type": "code",
   "execution_count": 17,
   "metadata": {},
   "outputs": [],
   "source": [
    "d=pd.read_csv(\"history.csv\")"
   ]
  },
  {
   "cell_type": "code",
   "execution_count": 31,
   "metadata": {},
   "outputs": [
    {
     "data": {
      "text/plain": [
       "<matplotlib.figure.Figure at 0x11134f668>"
      ]
     },
     "metadata": {},
     "output_type": "display_data"
    },
    {
     "data": {
      "image/png": "[encoded data removed]",
      "text/plain": [
       "<matplotlib.figure.Figure at 0x112d71f60>"
      ]
     },
     "metadata": {},
     "output_type": "display_data"
    }
   ],
   "source": [
    "%matplotlib inline\n",
    "import matplotlib.pyplot as plt\n"
   ]
  },
  {
   "cell_type": "code",
   "execution_count": 16,
   "metadata": {},
   "outputs": [],
   "source": [
    "loss_history = [0,1,2]\n",
    "val_loss_history = [3,4,5]\n",
    "res = pd.DataFrame({\"epoch\":range(0,len(loss_history)), \"loss\":loss_history, \"val_loss\":val_loss_history})\n",
    "res.to_csv(os.path.join(os.getcwd(),\"history.csv\"), index=False)"
   ]
  },
  {
   "cell_type": "code",
   "execution_count": null,
   "metadata": {},
   "outputs": [],
   "source": [
    "crop_size = 350\n",
    "resize_size = 224\n",
    "train = Dataset(train_id, df, crop_size, resize_size)\n",
    "test  = Dataset(test_id, ori, crop_size, resize_size)"
   ]
  },
  {
   "cell_type": "code",
   "execution_count": null,
   "metadata": {},
   "outputs": [],
   "source": [
    "vgg16_train(train, test, save_dir=save_dir, init_from=init_from, batch_size=64, epoch=300, early_stop=25)\n",
    "save_plot(save_dir, test)"
   ]
  }
 ],
 "metadata": {
  "kernelspec": {
   "display_name": "Python 3",
   "language": "python",
   "name": "python3"
  },
  "language_info": {
   "codemirror_mode": {
    "name": "ipython",
    "version": 3
   },
   "file_extension": ".py",
   "mimetype": "text/x-python",
   "name": "python",
   "nbconvert_exporter": "python",
   "pygments_lexer": "ipython3",
   "version": "3.6.3"
  }
 },
 "nbformat": 4,
 "nbformat_minor": 2
}
